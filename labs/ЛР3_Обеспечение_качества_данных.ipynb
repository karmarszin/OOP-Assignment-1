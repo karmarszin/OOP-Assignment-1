{
  "nbformat": 4,
  "nbformat_minor": 0,
  "metadata": {
    "colab": {
      "provenance": [],
      "include_colab_link": true
    },
    "kernelspec": {
      "name": "python3",
      "display_name": "Python 3"
    },
    "language_info": {
      "name": "python"
    }
  },
  "cells": [
    {
      "cell_type": "markdown",
      "metadata": {
        "id": "view-in-github",
        "colab_type": "text"
      },
      "source": [
        "<a href=\"https://colab.research.google.com/github/karmarszin/OOP-Assignment-1/blob/main/labs/%D0%9B%D0%A03_%D0%9E%D0%B1%D0%B5%D1%81%D0%BF%D0%B5%D1%87%D0%B5%D0%BD%D0%B8%D0%B5_%D0%BA%D0%B0%D1%87%D0%B5%D1%81%D1%82%D0%B2%D0%B0_%D0%B4%D0%B0%D0%BD%D0%BD%D1%8B%D1%85.ipynb\" target=\"_parent\"><img src=\"https://colab.research.google.com/assets/colab-badge.svg\" alt=\"Open In Colab\"/></a>"
      ]
    },
    {
      "cell_type": "markdown",
      "source": [
        "# Постановка задачи\n"
      ],
      "metadata": {
        "id": "Mx1V6rkZLGNJ"
      }
    },
    {
      "cell_type": "markdown",
      "source": [
        "**Цель работы:** исследование и обработка данных для повышения их качества.\n",
        "\n",
        "**Краткое описание:** в лабораторной работе приводится поэтапный план изучения и обработки намеренно не предобработанных данных. Необходимо выполнить все этапы плана и оценить результаты преобразований."
      ],
      "metadata": {
        "id": "BPzgy4tKLP-x"
      }
    },
    {
      "cell_type": "markdown",
      "metadata": {
        "id": "xjvL0IIG8Jd0"
      },
      "source": [
        "# Данные\n"
      ]
    },
    {
      "cell_type": "markdown",
      "metadata": {
        "id": "oP3lX9xC8Jd8"
      },
      "source": [
        "\n",
        "В папке [Data/lab3](https://drive.google.com/drive/folders/1437z7m5Ut4WUJOhJg1oZz13dtBpxgFKs?usp=share_link) расположена таблица `monster_com_job_sample.com` с данными о вакансиях. Также эти данные с описанием и примерами обработки можно найти на [kaggle](https://www.kaggle.com/code/ankkur13/perfect-dataset-to-get-the-hands-dirty/data#).\n",
        "\n",
        "##### **Формат данных**\n",
        "\n",
        "```\n",
        "country,country_code,date_added,has_expired,job_board,job_description,job_title,job_type,location,organization,page_url,salary,sector,uniq_id\n",
        "United States of America,US,\"\",No,jobs.monster.com,\"TeamSoft is seeing an IT Support Specialist to join our client in Madison, WI. The ideal candidate must have at least 6 years of experience in the field. They need to be familiar with a variety of the field's concepts, practices, and procedures as this position relies on extensive experience and judgment to plan and accomplish goals. Required Skills:вАҐ Call tracking softwareвАҐ Phone based technical supportвАҐ Problem documentation and communicationвАҐ Remote Desktop Management ToolsвАҐ Respond to customer requestsвАҐ General understanding of LANDeskвАҐ Microsoft Office 2007 SuiteFind out why TeamSoft is the Madison area's technology leader with over 200 IT consultants. Owned, operated, and managed by IT consultants, TeamSoft is the clear choice for your career. Join the TeamSoft family today!Did you know?вАҐ TeamSoft offers salaried options for many positions that include 5 weeks PTO and great benefits!вАҐ TeamSoft has been in business since 1996вАҐ TeamSoft's owners are local IT professionals who possess a wealth of experience in application development, business analysis, and project managementвАҐ TeamSoft's Recruiters are knowledgeable, friendly, and ready to help you make your next great career moveвАҐ TeamSoft offers a full benefits suite to all of our W2 consultants, including a 401k plan with a 100% vested 4% dollar for dollar matchвАҐ Our targeted selection process is designed to get to know your strengths and career interests and provide you with the best chance for success in your new positionвАҐ Our longest running consultant has been with us for 16 yearsвАҐ Consultants can participate in our charitable giving committee. To date, TeamSoft's charitable giving committee has donated over $100,000!TeamSoft is owned by local IT professionals. Our team also has deep experience with IT staffing. Our clients understand this and rely on our expertise. That is why TeamSoft is the Madison Area's largest privately owned IT consulting firm, with more than 200 current consultants! With over 50 active clients, TeamSoft will give you the greatest exposure to the widest range of IT careers.Our owners possess a combined 60+ years of IT consulting experience. Our recruiting and Account Management staff are very well-versed in our client markets. We get you. We know you. We know what you do every day. And we know what you deal with on the job.You take your career seriously and so do we. At TeamSoft you are not just a resume or number. Our goal is to create long-term partnerships with each of our consultants, and according to feedback from many of them, we are very good at this. Click HERE to see what our consultants have to say about working with TeamSoft.TeamSoft -- Promote yourself!TeamSoft is an equal employment opportunity employer functioning under an Affirmative Action Plan.\",IT Support Technician Job in Madison,Full Time Employee,\"Madison, WI 53702\",\"\",http://jobview.monster.com/it-support-technician-job-madison-wi-us-167855963.aspx?mescoid=1500134001001&jobPosition=20,\"\",IT/Software Development,11d599f229a80023d2f40e7c52cd941e\n",
        "United States of America,US,\"\",No,jobs.monster.com,\"The Wisconsin State Journal is seeking a flexible and motivated reporter/editor to lead its three-person business desk. WeвАЩre looking for an experienced journalist able to spot trends, be a watchdog and reflect the Madison areaвАЩs vibrant entrepreneurial community. This is a hybrid reporting and editing position that calls for a fleet-footed, multimedia storyteller able to maximize the newspaperвАЩs online presentation while also editing two sections a week. Candidates must have strong news judgment, be well versed in business news and trends and be able to quickly prioritize coverage.At least five yearsвАЩ experience reporting or editing for digital and print platforms desired. To be considered for the position, applicants must apply online.¬†As part of your online application, please attach five samples of your work or links to five recent stories.Wisconsin State Journal, 1901 Fish Hatchery Road, Madison, WI 53713Affirmative Action/Equal Opportunity Employer/Pre-employment drug testing appliesPI94338362Apply Here\",Business Reporter/Editor Job in Madison,Full Time,\"Madison, WI 53708\",Printing and Publishing,http://jobview.monster.com/business-reporter-editor-job-madison-wi-us-167830105.aspx?mescoid=2700437001001&jobPosition=7,\"\",\"\",e4cbb126dabf22159aff90223243ff2a\n",
        "...\n",
        "```"
      ]
    },
    {
      "cell_type": "markdown",
      "source": [
        "##### **Описание полей**\n",
        " - ```country``` — наименование страны;\n",
        " - ```country_code``` — код страны;\n",
        " - ```date_added``` — дата размещения вакансии;\n",
        " - ```has_expired``` — актуальность вакансии;\n",
        " - ```job_board``` — агрегатор вакансий, с которого собраны данные;\n",
        " - ```job_description``` — описание вакансии;\n",
        " - ```job_title``` — наименование должности;\n",
        " - ```job_type``` — вид занятости;\n",
        " - ```location``` — метоположение организации;\n",
        " - ```organization``` — наименование организации;\n",
        " - ```page_url``` — ссылка на страницу с вакансией;\n",
        " - ```salary``` — заработная плата;\n",
        " - ```sector``` — сфера деятельности;\n",
        " - ```uniq_id``` — уникальный идентификатор записи о вакансии."
      ],
      "metadata": {
        "id": "6lEBcXdWuhD3"
      }
    },
    {
      "cell_type": "markdown",
      "source": [
        "# Понимание данных"
      ],
      "metadata": {
        "id": "SA63ZXNBkUde"
      }
    },
    {
      "cell_type": "code",
      "execution_count": 1,
      "metadata": {
        "id": "eZIcPcPutJ7k"
      },
      "outputs": [],
      "source": [
        "import re\n",
        "import numpy as np\n",
        "import pandas as pd\n",
        "import missingno as msno\n",
        "from matplotlib import pyplot as plt\n",
        "import seaborn as sns"
      ]
    },
    {
      "cell_type": "markdown",
      "source": [
        "В датасете есть несколько столбцов, в каждой ячейке которых записано одно и то же значение. Есть столбцы, в которых формат записи значений не стандартизирован. А есть такие, где указана информация, не соответствующая названию столбца.\n",
        "\n",
        "**Первый этап изучения данных** – понять, какие основные проблемы предстоит решить для каждого из столбцов. Для этого загрузите датасет и выведите случайные несколько строк из него. Постарайтесь понять, что из себя представляют данные в столбцах."
      ],
      "metadata": {
        "id": "Fy8Z7sNYyJdO"
      }
    },
    {
      "cell_type": "code",
      "source": [
        "df = pd.read_csv('monster_com_job_sample.csv', engine='python')\n",
        "df.sample(10)"
      ],
      "metadata": {
        "id": "Pg3YapMnEEDH",
        "outputId": "fbfad4e1-c86a-45d8-d6bf-18ad9c025d5b",
        "colab": {
          "base_uri": "https://localhost:8080/",
          "height": 956
        }
      },
      "execution_count": 4,
      "outputs": [
        {
          "output_type": "execute_result",
          "data": {
            "text/plain": [
              "                        country country_code date_added has_expired  \\\n",
              "14471  United States of America           US        NaN          No   \n",
              "12129  United States of America           US        NaN          No   \n",
              "2622   United States of America           US        NaN          No   \n",
              "11638  United States of America           US        NaN          No   \n",
              "7321   United States of America           US        NaN          No   \n",
              "19825  United States of America           US        NaN          No   \n",
              "21713  United States of America           US        NaN          No   \n",
              "16473  United States of America           US        NaN          No   \n",
              "1436   United States of America           US        NaN          No   \n",
              "1538   United States of America           US        NaN          No   \n",
              "\n",
              "              job_board                                    job_description  \\\n",
              "14471  jobs.monster.com  Imagine Staffing is recruiting for a Maintenan...   \n",
              "12129  jobs.monster.com  Patent SecretarySalary: $75K - $78K5+ years of...   \n",
              "2622   jobs.monster.com  LVN / LPN DescriptionSummaryA licensed practic...   \n",
              "11638  jobs.monster.com  12N Horizontal Construction Engineers Job ID: ...   \n",
              "7321   jobs.monster.com  MOUNTAIN, LTD. is currently seeking an Insuran...   \n",
              "19825  jobs.monster.com  Field Case Management (RN) - Workers’ Compensa...   \n",
              "21713  jobs.monster.com  Job Title: Named Account Executive - Professio...   \n",
              "16473  jobs.monster.com  Job Description Job #:  681935Job Title: Busin...   \n",
              "1436   jobs.monster.com  Kuhn Automotive Group has an immediate opening...   \n",
              "1538   jobs.monster.com  Responsibilities for Microbiologist:Perform R&...   \n",
              "\n",
              "                                               job_title  \\\n",
              "14471          Maintenance Technician Job in Minneapolis   \n",
              "12129                     Patent Secretary Job in Boston   \n",
              "2622                            Licensed Practical Nurse   \n",
              "11638  N Horizontal Construction Engineers Job in Aug...   \n",
              "7321           Insurance Defense Attorney Job in Atlanta   \n",
              "19825  Grand Rapids Field Case Management (RN) - Work...   \n",
              "21713  Named Account Executive - Professional Service...   \n",
              "16473              ERP Reporting Analyst Job in Columbus   \n",
              "1436      Receptionist/BDC Representative Job in Brandon   \n",
              "1538                       Microbiologist Job in Andover   \n",
              "\n",
              "                                    job_type  \\\n",
              "14471                     Full Time Employee   \n",
              "12129                     Full Time Employee   \n",
              "2622                      Full Time Employee   \n",
              "11638                     Full Time Employee   \n",
              "7321   Full Time, Temporary/Contract/Project   \n",
              "19825                              Full Time   \n",
              "21713                     Full Time Employee   \n",
              "16473                     Full Time Employee   \n",
              "1436                     Full Time, Employee   \n",
              "1538                      Full Time Employee   \n",
              "\n",
              "                                                location  \\\n",
              "14471                                    Minneapolis, MN   \n",
              "12129                                   Boston, MA 02110   \n",
              "2622                                         Houston, TX   \n",
              "11638  12N Horizontal Construction Engineers Job ID: ...   \n",
              "7321                                   Atlanta, GA 30339   \n",
              "19825                                   Grand Rapids, MI   \n",
              "21713                                       Blue Ash, OH   \n",
              "16473  Job Description Job #:  681935Job Title: Busin...   \n",
              "1436                                   Brandon, FL 33509   \n",
              "1538                                         Andover, MA   \n",
              "\n",
              "                                            organization  \\\n",
              "14471  Manufacturing - OtherFood and Beverage Production   \n",
              "12129                                                NaN   \n",
              "2622                                 Healthcare Services   \n",
              "11638                                                NaN   \n",
              "7321                                                 NaN   \n",
              "19825                                          Insurance   \n",
              "21713                                  Computer Hardware   \n",
              "16473                               Computer/IT Services   \n",
              "1436                Automotive Sales and Repair Services   \n",
              "1538                                                 NaN   \n",
              "\n",
              "                                                page_url  \\\n",
              "14471  http://jobview.monster.com/maintenance-technic...   \n",
              "12129  http://jobview.monster.com/patent-secretary-jo...   \n",
              "2622   http://jobview.monster.com/licensed-practical-...   \n",
              "11638  http://jobview.monster.com/12n-horizontal-cons...   \n",
              "7321   http://jobview.monster.com/insurance-defense-a...   \n",
              "19825  http://jobview.monster.com/Grand-Rapids-Field-...   \n",
              "21713  http://jobview.monster.com/Named-Account-Execu...   \n",
              "16473  http://jobview.monster.com/erp-reporting-analy...   \n",
              "1436   http://jobview.monster.com/receptionist-bdc-re...   \n",
              "1538   http://jobview.monster.com/microbiologist-job-...   \n",
              "\n",
              "                              salary                             sector  \\\n",
              "14471          26.00 - 30.00 $ /hour    Installation/Maintenance/Repair   \n",
              "12129  75,000.00 - 78,000.00 $ /year                              Legal   \n",
              "2622                             NaN                                NaN   \n",
              "11638                            NaN                        Entry Level   \n",
              "7321                             NaN                              Legal   \n",
              "19825  63,000.00 - 65,000.00 $ /year                        Entry Level   \n",
              "21713                            NaN                                NaN   \n",
              "16473                            NaN          Experienced (Non-Manager)   \n",
              "1436           10.00 - 12.00 $ /hour  Sales/Retail/Business Development   \n",
              "1538                             NaN                Biotech/R&D/Science   \n",
              "\n",
              "                                uniq_id  \n",
              "14471  51c02f5d13500b01d06eeb93ae2b0388  \n",
              "12129  fd0b2fb2b8e2df3648304450b1d87714  \n",
              "2622   a857f257e368c0b696b4d4b13189a32a  \n",
              "11638  ee04bfcb0a1ea726d5fa8c577293cea8  \n",
              "7321   c228dd1d5b50dd1b62f299065a6d725f  \n",
              "19825  ce7bcd9affe1e5c11cf7b7eedaeb177f  \n",
              "21713  350fc6f71c1c94fe32f20f21c3bdc90a  \n",
              "16473  074eac0fd98c9e60299bf9762bc5ae8c  \n",
              "1436   8a6b035b3133bd8b9c36370f1d937a6a  \n",
              "1538   741d7860d8731e32d3626ab94d7e24bc  "
            ],
            "text/html": [
              "\n",
              "  <div id=\"df-ce06073d-4f0b-48fa-a506-a12edb3ebf5d\" class=\"colab-df-container\">\n",
              "    <div>\n",
              "<style scoped>\n",
              "    .dataframe tbody tr th:only-of-type {\n",
              "        vertical-align: middle;\n",
              "    }\n",
              "\n",
              "    .dataframe tbody tr th {\n",
              "        vertical-align: top;\n",
              "    }\n",
              "\n",
              "    .dataframe thead th {\n",
              "        text-align: right;\n",
              "    }\n",
              "</style>\n",
              "<table border=\"1\" class=\"dataframe\">\n",
              "  <thead>\n",
              "    <tr style=\"text-align: right;\">\n",
              "      <th></th>\n",
              "      <th>country</th>\n",
              "      <th>country_code</th>\n",
              "      <th>date_added</th>\n",
              "      <th>has_expired</th>\n",
              "      <th>job_board</th>\n",
              "      <th>job_description</th>\n",
              "      <th>job_title</th>\n",
              "      <th>job_type</th>\n",
              "      <th>location</th>\n",
              "      <th>organization</th>\n",
              "      <th>page_url</th>\n",
              "      <th>salary</th>\n",
              "      <th>sector</th>\n",
              "      <th>uniq_id</th>\n",
              "    </tr>\n",
              "  </thead>\n",
              "  <tbody>\n",
              "    <tr>\n",
              "      <th>14471</th>\n",
              "      <td>United States of America</td>\n",
              "      <td>US</td>\n",
              "      <td>NaN</td>\n",
              "      <td>No</td>\n",
              "      <td>jobs.monster.com</td>\n",
              "      <td>Imagine Staffing is recruiting for a Maintenan...</td>\n",
              "      <td>Maintenance Technician Job in Minneapolis</td>\n",
              "      <td>Full Time Employee</td>\n",
              "      <td>Minneapolis, MN</td>\n",
              "      <td>Manufacturing - OtherFood and Beverage Production</td>\n",
              "      <td>http://jobview.monster.com/maintenance-technic...</td>\n",
              "      <td>26.00 - 30.00 $ /hour</td>\n",
              "      <td>Installation/Maintenance/Repair</td>\n",
              "      <td>51c02f5d13500b01d06eeb93ae2b0388</td>\n",
              "    </tr>\n",
              "    <tr>\n",
              "      <th>12129</th>\n",
              "      <td>United States of America</td>\n",
              "      <td>US</td>\n",
              "      <td>NaN</td>\n",
              "      <td>No</td>\n",
              "      <td>jobs.monster.com</td>\n",
              "      <td>Patent SecretarySalary: $75K - $78K5+ years of...</td>\n",
              "      <td>Patent Secretary Job in Boston</td>\n",
              "      <td>Full Time Employee</td>\n",
              "      <td>Boston, MA 02110</td>\n",
              "      <td>NaN</td>\n",
              "      <td>http://jobview.monster.com/patent-secretary-jo...</td>\n",
              "      <td>75,000.00 - 78,000.00 $ /year</td>\n",
              "      <td>Legal</td>\n",
              "      <td>fd0b2fb2b8e2df3648304450b1d87714</td>\n",
              "    </tr>\n",
              "    <tr>\n",
              "      <th>2622</th>\n",
              "      <td>United States of America</td>\n",
              "      <td>US</td>\n",
              "      <td>NaN</td>\n",
              "      <td>No</td>\n",
              "      <td>jobs.monster.com</td>\n",
              "      <td>LVN / LPN DescriptionSummaryA licensed practic...</td>\n",
              "      <td>Licensed Practical Nurse</td>\n",
              "      <td>Full Time Employee</td>\n",
              "      <td>Houston, TX</td>\n",
              "      <td>Healthcare Services</td>\n",
              "      <td>http://jobview.monster.com/licensed-practical-...</td>\n",
              "      <td>NaN</td>\n",
              "      <td>NaN</td>\n",
              "      <td>a857f257e368c0b696b4d4b13189a32a</td>\n",
              "    </tr>\n",
              "    <tr>\n",
              "      <th>11638</th>\n",
              "      <td>United States of America</td>\n",
              "      <td>US</td>\n",
              "      <td>NaN</td>\n",
              "      <td>No</td>\n",
              "      <td>jobs.monster.com</td>\n",
              "      <td>12N Horizontal Construction Engineers Job ID: ...</td>\n",
              "      <td>N Horizontal Construction Engineers Job in Aug...</td>\n",
              "      <td>Full Time Employee</td>\n",
              "      <td>12N Horizontal Construction Engineers Job ID: ...</td>\n",
              "      <td>NaN</td>\n",
              "      <td>http://jobview.monster.com/12n-horizontal-cons...</td>\n",
              "      <td>NaN</td>\n",
              "      <td>Entry Level</td>\n",
              "      <td>ee04bfcb0a1ea726d5fa8c577293cea8</td>\n",
              "    </tr>\n",
              "    <tr>\n",
              "      <th>7321</th>\n",
              "      <td>United States of America</td>\n",
              "      <td>US</td>\n",
              "      <td>NaN</td>\n",
              "      <td>No</td>\n",
              "      <td>jobs.monster.com</td>\n",
              "      <td>MOUNTAIN, LTD. is currently seeking an Insuran...</td>\n",
              "      <td>Insurance Defense Attorney Job in Atlanta</td>\n",
              "      <td>Full Time, Temporary/Contract/Project</td>\n",
              "      <td>Atlanta, GA 30339</td>\n",
              "      <td>NaN</td>\n",
              "      <td>http://jobview.monster.com/insurance-defense-a...</td>\n",
              "      <td>NaN</td>\n",
              "      <td>Legal</td>\n",
              "      <td>c228dd1d5b50dd1b62f299065a6d725f</td>\n",
              "    </tr>\n",
              "    <tr>\n",
              "      <th>19825</th>\n",
              "      <td>United States of America</td>\n",
              "      <td>US</td>\n",
              "      <td>NaN</td>\n",
              "      <td>No</td>\n",
              "      <td>jobs.monster.com</td>\n",
              "      <td>Field Case Management (RN) - Workers’ Compensa...</td>\n",
              "      <td>Grand Rapids Field Case Management (RN) - Work...</td>\n",
              "      <td>Full Time</td>\n",
              "      <td>Grand Rapids, MI</td>\n",
              "      <td>Insurance</td>\n",
              "      <td>http://jobview.monster.com/Grand-Rapids-Field-...</td>\n",
              "      <td>63,000.00 - 65,000.00 $ /year</td>\n",
              "      <td>Entry Level</td>\n",
              "      <td>ce7bcd9affe1e5c11cf7b7eedaeb177f</td>\n",
              "    </tr>\n",
              "    <tr>\n",
              "      <th>21713</th>\n",
              "      <td>United States of America</td>\n",
              "      <td>US</td>\n",
              "      <td>NaN</td>\n",
              "      <td>No</td>\n",
              "      <td>jobs.monster.com</td>\n",
              "      <td>Job Title: Named Account Executive - Professio...</td>\n",
              "      <td>Named Account Executive - Professional Service...</td>\n",
              "      <td>Full Time Employee</td>\n",
              "      <td>Blue Ash, OH</td>\n",
              "      <td>Computer Hardware</td>\n",
              "      <td>http://jobview.monster.com/Named-Account-Execu...</td>\n",
              "      <td>NaN</td>\n",
              "      <td>NaN</td>\n",
              "      <td>350fc6f71c1c94fe32f20f21c3bdc90a</td>\n",
              "    </tr>\n",
              "    <tr>\n",
              "      <th>16473</th>\n",
              "      <td>United States of America</td>\n",
              "      <td>US</td>\n",
              "      <td>NaN</td>\n",
              "      <td>No</td>\n",
              "      <td>jobs.monster.com</td>\n",
              "      <td>Job Description Job #:  681935Job Title: Busin...</td>\n",
              "      <td>ERP Reporting Analyst Job in Columbus</td>\n",
              "      <td>Full Time Employee</td>\n",
              "      <td>Job Description Job #:  681935Job Title: Busin...</td>\n",
              "      <td>Computer/IT Services</td>\n",
              "      <td>http://jobview.monster.com/erp-reporting-analy...</td>\n",
              "      <td>NaN</td>\n",
              "      <td>Experienced (Non-Manager)</td>\n",
              "      <td>074eac0fd98c9e60299bf9762bc5ae8c</td>\n",
              "    </tr>\n",
              "    <tr>\n",
              "      <th>1436</th>\n",
              "      <td>United States of America</td>\n",
              "      <td>US</td>\n",
              "      <td>NaN</td>\n",
              "      <td>No</td>\n",
              "      <td>jobs.monster.com</td>\n",
              "      <td>Kuhn Automotive Group has an immediate opening...</td>\n",
              "      <td>Receptionist/BDC Representative Job in Brandon</td>\n",
              "      <td>Full Time, Employee</td>\n",
              "      <td>Brandon, FL 33509</td>\n",
              "      <td>Automotive Sales and Repair Services</td>\n",
              "      <td>http://jobview.monster.com/receptionist-bdc-re...</td>\n",
              "      <td>10.00 - 12.00 $ /hour</td>\n",
              "      <td>Sales/Retail/Business Development</td>\n",
              "      <td>8a6b035b3133bd8b9c36370f1d937a6a</td>\n",
              "    </tr>\n",
              "    <tr>\n",
              "      <th>1538</th>\n",
              "      <td>United States of America</td>\n",
              "      <td>US</td>\n",
              "      <td>NaN</td>\n",
              "      <td>No</td>\n",
              "      <td>jobs.monster.com</td>\n",
              "      <td>Responsibilities for Microbiologist:Perform R&amp;...</td>\n",
              "      <td>Microbiologist Job in Andover</td>\n",
              "      <td>Full Time Employee</td>\n",
              "      <td>Andover, MA</td>\n",
              "      <td>NaN</td>\n",
              "      <td>http://jobview.monster.com/microbiologist-job-...</td>\n",
              "      <td>NaN</td>\n",
              "      <td>Biotech/R&amp;D/Science</td>\n",
              "      <td>741d7860d8731e32d3626ab94d7e24bc</td>\n",
              "    </tr>\n",
              "  </tbody>\n",
              "</table>\n",
              "</div>\n",
              "    <div class=\"colab-df-buttons\">\n",
              "\n",
              "  <div class=\"colab-df-container\">\n",
              "    <button class=\"colab-df-convert\" onclick=\"convertToInteractive('df-ce06073d-4f0b-48fa-a506-a12edb3ebf5d')\"\n",
              "            title=\"Convert this dataframe to an interactive table.\"\n",
              "            style=\"display:none;\">\n",
              "\n",
              "  <svg xmlns=\"http://www.w3.org/2000/svg\" height=\"24px\" viewBox=\"0 -960 960 960\">\n",
              "    <path d=\"M120-120v-720h720v720H120Zm60-500h600v-160H180v160Zm220 220h160v-160H400v160Zm0 220h160v-160H400v160ZM180-400h160v-160H180v160Zm440 0h160v-160H620v160ZM180-180h160v-160H180v160Zm440 0h160v-160H620v160Z\"/>\n",
              "  </svg>\n",
              "    </button>\n",
              "\n",
              "  <style>\n",
              "    .colab-df-container {\n",
              "      display:flex;\n",
              "      gap: 12px;\n",
              "    }\n",
              "\n",
              "    .colab-df-convert {\n",
              "      background-color: #E8F0FE;\n",
              "      border: none;\n",
              "      border-radius: 50%;\n",
              "      cursor: pointer;\n",
              "      display: none;\n",
              "      fill: #1967D2;\n",
              "      height: 32px;\n",
              "      padding: 0 0 0 0;\n",
              "      width: 32px;\n",
              "    }\n",
              "\n",
              "    .colab-df-convert:hover {\n",
              "      background-color: #E2EBFA;\n",
              "      box-shadow: 0px 1px 2px rgba(60, 64, 67, 0.3), 0px 1px 3px 1px rgba(60, 64, 67, 0.15);\n",
              "      fill: #174EA6;\n",
              "    }\n",
              "\n",
              "    .colab-df-buttons div {\n",
              "      margin-bottom: 4px;\n",
              "    }\n",
              "\n",
              "    [theme=dark] .colab-df-convert {\n",
              "      background-color: #3B4455;\n",
              "      fill: #D2E3FC;\n",
              "    }\n",
              "\n",
              "    [theme=dark] .colab-df-convert:hover {\n",
              "      background-color: #434B5C;\n",
              "      box-shadow: 0px 1px 3px 1px rgba(0, 0, 0, 0.15);\n",
              "      filter: drop-shadow(0px 1px 2px rgba(0, 0, 0, 0.3));\n",
              "      fill: #FFFFFF;\n",
              "    }\n",
              "  </style>\n",
              "\n",
              "    <script>\n",
              "      const buttonEl =\n",
              "        document.querySelector('#df-ce06073d-4f0b-48fa-a506-a12edb3ebf5d button.colab-df-convert');\n",
              "      buttonEl.style.display =\n",
              "        google.colab.kernel.accessAllowed ? 'block' : 'none';\n",
              "\n",
              "      async function convertToInteractive(key) {\n",
              "        const element = document.querySelector('#df-ce06073d-4f0b-48fa-a506-a12edb3ebf5d');\n",
              "        const dataTable =\n",
              "          await google.colab.kernel.invokeFunction('convertToInteractive',\n",
              "                                                    [key], {});\n",
              "        if (!dataTable) return;\n",
              "\n",
              "        const docLinkHtml = 'Like what you see? Visit the ' +\n",
              "          '<a target=\"_blank\" href=https://colab.research.google.com/notebooks/data_table.ipynb>data table notebook</a>'\n",
              "          + ' to learn more about interactive tables.';\n",
              "        element.innerHTML = '';\n",
              "        dataTable['output_type'] = 'display_data';\n",
              "        await google.colab.output.renderOutput(dataTable, element);\n",
              "        const docLink = document.createElement('div');\n",
              "        docLink.innerHTML = docLinkHtml;\n",
              "        element.appendChild(docLink);\n",
              "      }\n",
              "    </script>\n",
              "  </div>\n",
              "\n",
              "\n",
              "    <div id=\"df-90ea97b5-fed5-4c69-9b4d-d163bc41178f\">\n",
              "      <button class=\"colab-df-quickchart\" onclick=\"quickchart('df-90ea97b5-fed5-4c69-9b4d-d163bc41178f')\"\n",
              "                title=\"Suggest charts\"\n",
              "                style=\"display:none;\">\n",
              "\n",
              "<svg xmlns=\"http://www.w3.org/2000/svg\" height=\"24px\"viewBox=\"0 0 24 24\"\n",
              "     width=\"24px\">\n",
              "    <g>\n",
              "        <path d=\"M19 3H5c-1.1 0-2 .9-2 2v14c0 1.1.9 2 2 2h14c1.1 0 2-.9 2-2V5c0-1.1-.9-2-2-2zM9 17H7v-7h2v7zm4 0h-2V7h2v10zm4 0h-2v-4h2v4z\"/>\n",
              "    </g>\n",
              "</svg>\n",
              "      </button>\n",
              "\n",
              "<style>\n",
              "  .colab-df-quickchart {\n",
              "      --bg-color: #E8F0FE;\n",
              "      --fill-color: #1967D2;\n",
              "      --hover-bg-color: #E2EBFA;\n",
              "      --hover-fill-color: #174EA6;\n",
              "      --disabled-fill-color: #AAA;\n",
              "      --disabled-bg-color: #DDD;\n",
              "  }\n",
              "\n",
              "  [theme=dark] .colab-df-quickchart {\n",
              "      --bg-color: #3B4455;\n",
              "      --fill-color: #D2E3FC;\n",
              "      --hover-bg-color: #434B5C;\n",
              "      --hover-fill-color: #FFFFFF;\n",
              "      --disabled-bg-color: #3B4455;\n",
              "      --disabled-fill-color: #666;\n",
              "  }\n",
              "\n",
              "  .colab-df-quickchart {\n",
              "    background-color: var(--bg-color);\n",
              "    border: none;\n",
              "    border-radius: 50%;\n",
              "    cursor: pointer;\n",
              "    display: none;\n",
              "    fill: var(--fill-color);\n",
              "    height: 32px;\n",
              "    padding: 0;\n",
              "    width: 32px;\n",
              "  }\n",
              "\n",
              "  .colab-df-quickchart:hover {\n",
              "    background-color: var(--hover-bg-color);\n",
              "    box-shadow: 0 1px 2px rgba(60, 64, 67, 0.3), 0 1px 3px 1px rgba(60, 64, 67, 0.15);\n",
              "    fill: var(--button-hover-fill-color);\n",
              "  }\n",
              "\n",
              "  .colab-df-quickchart-complete:disabled,\n",
              "  .colab-df-quickchart-complete:disabled:hover {\n",
              "    background-color: var(--disabled-bg-color);\n",
              "    fill: var(--disabled-fill-color);\n",
              "    box-shadow: none;\n",
              "  }\n",
              "\n",
              "  .colab-df-spinner {\n",
              "    border: 2px solid var(--fill-color);\n",
              "    border-color: transparent;\n",
              "    border-bottom-color: var(--fill-color);\n",
              "    animation:\n",
              "      spin 1s steps(1) infinite;\n",
              "  }\n",
              "\n",
              "  @keyframes spin {\n",
              "    0% {\n",
              "      border-color: transparent;\n",
              "      border-bottom-color: var(--fill-color);\n",
              "      border-left-color: var(--fill-color);\n",
              "    }\n",
              "    20% {\n",
              "      border-color: transparent;\n",
              "      border-left-color: var(--fill-color);\n",
              "      border-top-color: var(--fill-color);\n",
              "    }\n",
              "    30% {\n",
              "      border-color: transparent;\n",
              "      border-left-color: var(--fill-color);\n",
              "      border-top-color: var(--fill-color);\n",
              "      border-right-color: var(--fill-color);\n",
              "    }\n",
              "    40% {\n",
              "      border-color: transparent;\n",
              "      border-right-color: var(--fill-color);\n",
              "      border-top-color: var(--fill-color);\n",
              "    }\n",
              "    60% {\n",
              "      border-color: transparent;\n",
              "      border-right-color: var(--fill-color);\n",
              "    }\n",
              "    80% {\n",
              "      border-color: transparent;\n",
              "      border-right-color: var(--fill-color);\n",
              "      border-bottom-color: var(--fill-color);\n",
              "    }\n",
              "    90% {\n",
              "      border-color: transparent;\n",
              "      border-bottom-color: var(--fill-color);\n",
              "    }\n",
              "  }\n",
              "</style>\n",
              "\n",
              "      <script>\n",
              "        async function quickchart(key) {\n",
              "          const quickchartButtonEl =\n",
              "            document.querySelector('#' + key + ' button');\n",
              "          quickchartButtonEl.disabled = true;  // To prevent multiple clicks.\n",
              "          quickchartButtonEl.classList.add('colab-df-spinner');\n",
              "          try {\n",
              "            const charts = await google.colab.kernel.invokeFunction(\n",
              "                'suggestCharts', [key], {});\n",
              "          } catch (error) {\n",
              "            console.error('Error during call to suggestCharts:', error);\n",
              "          }\n",
              "          quickchartButtonEl.classList.remove('colab-df-spinner');\n",
              "          quickchartButtonEl.classList.add('colab-df-quickchart-complete');\n",
              "        }\n",
              "        (() => {\n",
              "          let quickchartButtonEl =\n",
              "            document.querySelector('#df-90ea97b5-fed5-4c69-9b4d-d163bc41178f button');\n",
              "          quickchartButtonEl.style.display =\n",
              "            google.colab.kernel.accessAllowed ? 'block' : 'none';\n",
              "        })();\n",
              "      </script>\n",
              "    </div>\n",
              "    </div>\n",
              "  </div>\n"
            ],
            "application/vnd.google.colaboratory.intrinsic+json": {
              "type": "dataframe",
              "repr_error": "0"
            }
          },
          "metadata": {},
          "execution_count": 4
        }
      ]
    },
    {
      "cell_type": "markdown",
      "source": [
        "**Задание**\n",
        "\n",
        "Составьте таблицу, в которой будет содержаться название столбца, тип данных в нем и краткое описание проблем, которые вы заметили при первом взгляде на данные.\n",
        "\n",
        "\n",
        "Название столбца | Тип данных | Проблемы\n",
        "--- | --- | ---\n",
        "```country``` | str | одно значение\n",
        "```country_code``` | str |одно значение\n",
        "```date_added``` | str | 21k пропусков\n",
        "```has_expired``` | str | одно значение\n",
        "```job_board``` | str | одно значение\n",
        "```job_description``` | str | разный формат\n",
        "```job_title``` | str | разный формат\n",
        "```job_type``` | str | пропуски, разный формат\n",
        "```location``` | str | разный формат\n",
        "```organization``` | str | пропуски, разный формат\n",
        "```page_url``` | str | ok\n",
        "```salary``` | str | пропуски, разный формат\n",
        "```sector``` | str | пропуски, разный формат, ошибки\n",
        "```uniq_id``` | str | ok"
      ],
      "metadata": {
        "id": "YLByumEvRyO2"
      }
    },
    {
      "cell_type": "markdown",
      "source": [
        "### Оценка пустых ячеек в датасете"
      ],
      "metadata": {
        "id": "iUV-fNE6Js4w"
      }
    },
    {
      "cell_type": "markdown",
      "source": [
        "Выясните, в каких столбцах, строках и в каком количестве отсутствуют данные:\n",
        "1. С помощью модуля `pandas` составьте таблицу, где каждому названию столбца будет сопоставлено общее количество ячеек и количество пустых ячеек.\n",
        "2. Подсчитайте количество строк датасета, в которых пустыми являются более 75% ячеек.\n",
        "3. Визуализируйте число пропусков в датасете с помощью модуля, построив столбчатую диаграмму. Для удобства можно воспользоваться модулем `missingno`.\n"
      ],
      "metadata": {
        "id": "qMPChGv8SO2a"
      }
    },
    {
      "cell_type": "code",
      "source": [
        "cols = df.columns\n",
        "depth = df.shape[0]\n",
        "\n",
        "table = pd.DataFrame(columns=cols, index=[\"всего строк\", \"пустых\"])\n",
        "table.loc[\"всего строк\"] = depth\n",
        "table.loc[\"пустых\"] = df.isna().sum()\n",
        "table"
      ],
      "metadata": {
        "id": "LItHYqzoN5qK",
        "outputId": "bcf590a0-211b-402b-ae7a-e248d22746d6",
        "colab": {
          "base_uri": "https://localhost:8080/",
          "height": 112
        }
      },
      "execution_count": 55,
      "outputs": [
        {
          "output_type": "execute_result",
          "data": {
            "text/plain": [
              "            country country_code date_added has_expired job_board  \\\n",
              "всего строк   22000        22000      22000       22000     22000   \n",
              "пустых            0            0      21878           0         0   \n",
              "\n",
              "            job_description job_title job_type location organization page_url  \\\n",
              "всего строк           22000     22000    22000    22000        22000    22000   \n",
              "пустых                    0         0     1628        0         6867        0   \n",
              "\n",
              "            salary sector uniq_id  \n",
              "всего строк  22000  22000   22000  \n",
              "пустых       18554   5194       0  "
            ],
            "text/html": [
              "\n",
              "  <div id=\"df-5ce645fb-7448-4103-b26d-e9aaa42d82d1\" class=\"colab-df-container\">\n",
              "    <div>\n",
              "<style scoped>\n",
              "    .dataframe tbody tr th:only-of-type {\n",
              "        vertical-align: middle;\n",
              "    }\n",
              "\n",
              "    .dataframe tbody tr th {\n",
              "        vertical-align: top;\n",
              "    }\n",
              "\n",
              "    .dataframe thead th {\n",
              "        text-align: right;\n",
              "    }\n",
              "</style>\n",
              "<table border=\"1\" class=\"dataframe\">\n",
              "  <thead>\n",
              "    <tr style=\"text-align: right;\">\n",
              "      <th></th>\n",
              "      <th>country</th>\n",
              "      <th>country_code</th>\n",
              "      <th>date_added</th>\n",
              "      <th>has_expired</th>\n",
              "      <th>job_board</th>\n",
              "      <th>job_description</th>\n",
              "      <th>job_title</th>\n",
              "      <th>job_type</th>\n",
              "      <th>location</th>\n",
              "      <th>organization</th>\n",
              "      <th>page_url</th>\n",
              "      <th>salary</th>\n",
              "      <th>sector</th>\n",
              "      <th>uniq_id</th>\n",
              "    </tr>\n",
              "  </thead>\n",
              "  <tbody>\n",
              "    <tr>\n",
              "      <th>всего строк</th>\n",
              "      <td>22000</td>\n",
              "      <td>22000</td>\n",
              "      <td>22000</td>\n",
              "      <td>22000</td>\n",
              "      <td>22000</td>\n",
              "      <td>22000</td>\n",
              "      <td>22000</td>\n",
              "      <td>22000</td>\n",
              "      <td>22000</td>\n",
              "      <td>22000</td>\n",
              "      <td>22000</td>\n",
              "      <td>22000</td>\n",
              "      <td>22000</td>\n",
              "      <td>22000</td>\n",
              "    </tr>\n",
              "    <tr>\n",
              "      <th>пустых</th>\n",
              "      <td>0</td>\n",
              "      <td>0</td>\n",
              "      <td>21878</td>\n",
              "      <td>0</td>\n",
              "      <td>0</td>\n",
              "      <td>0</td>\n",
              "      <td>0</td>\n",
              "      <td>1628</td>\n",
              "      <td>0</td>\n",
              "      <td>6867</td>\n",
              "      <td>0</td>\n",
              "      <td>18554</td>\n",
              "      <td>5194</td>\n",
              "      <td>0</td>\n",
              "    </tr>\n",
              "  </tbody>\n",
              "</table>\n",
              "</div>\n",
              "    <div class=\"colab-df-buttons\">\n",
              "\n",
              "  <div class=\"colab-df-container\">\n",
              "    <button class=\"colab-df-convert\" onclick=\"convertToInteractive('df-5ce645fb-7448-4103-b26d-e9aaa42d82d1')\"\n",
              "            title=\"Convert this dataframe to an interactive table.\"\n",
              "            style=\"display:none;\">\n",
              "\n",
              "  <svg xmlns=\"http://www.w3.org/2000/svg\" height=\"24px\" viewBox=\"0 -960 960 960\">\n",
              "    <path d=\"M120-120v-720h720v720H120Zm60-500h600v-160H180v160Zm220 220h160v-160H400v160Zm0 220h160v-160H400v160ZM180-400h160v-160H180v160Zm440 0h160v-160H620v160ZM180-180h160v-160H180v160Zm440 0h160v-160H620v160Z\"/>\n",
              "  </svg>\n",
              "    </button>\n",
              "\n",
              "  <style>\n",
              "    .colab-df-container {\n",
              "      display:flex;\n",
              "      gap: 12px;\n",
              "    }\n",
              "\n",
              "    .colab-df-convert {\n",
              "      background-color: #E8F0FE;\n",
              "      border: none;\n",
              "      border-radius: 50%;\n",
              "      cursor: pointer;\n",
              "      display: none;\n",
              "      fill: #1967D2;\n",
              "      height: 32px;\n",
              "      padding: 0 0 0 0;\n",
              "      width: 32px;\n",
              "    }\n",
              "\n",
              "    .colab-df-convert:hover {\n",
              "      background-color: #E2EBFA;\n",
              "      box-shadow: 0px 1px 2px rgba(60, 64, 67, 0.3), 0px 1px 3px 1px rgba(60, 64, 67, 0.15);\n",
              "      fill: #174EA6;\n",
              "    }\n",
              "\n",
              "    .colab-df-buttons div {\n",
              "      margin-bottom: 4px;\n",
              "    }\n",
              "\n",
              "    [theme=dark] .colab-df-convert {\n",
              "      background-color: #3B4455;\n",
              "      fill: #D2E3FC;\n",
              "    }\n",
              "\n",
              "    [theme=dark] .colab-df-convert:hover {\n",
              "      background-color: #434B5C;\n",
              "      box-shadow: 0px 1px 3px 1px rgba(0, 0, 0, 0.15);\n",
              "      filter: drop-shadow(0px 1px 2px rgba(0, 0, 0, 0.3));\n",
              "      fill: #FFFFFF;\n",
              "    }\n",
              "  </style>\n",
              "\n",
              "    <script>\n",
              "      const buttonEl =\n",
              "        document.querySelector('#df-5ce645fb-7448-4103-b26d-e9aaa42d82d1 button.colab-df-convert');\n",
              "      buttonEl.style.display =\n",
              "        google.colab.kernel.accessAllowed ? 'block' : 'none';\n",
              "\n",
              "      async function convertToInteractive(key) {\n",
              "        const element = document.querySelector('#df-5ce645fb-7448-4103-b26d-e9aaa42d82d1');\n",
              "        const dataTable =\n",
              "          await google.colab.kernel.invokeFunction('convertToInteractive',\n",
              "                                                    [key], {});\n",
              "        if (!dataTable) return;\n",
              "\n",
              "        const docLinkHtml = 'Like what you see? Visit the ' +\n",
              "          '<a target=\"_blank\" href=https://colab.research.google.com/notebooks/data_table.ipynb>data table notebook</a>'\n",
              "          + ' to learn more about interactive tables.';\n",
              "        element.innerHTML = '';\n",
              "        dataTable['output_type'] = 'display_data';\n",
              "        await google.colab.output.renderOutput(dataTable, element);\n",
              "        const docLink = document.createElement('div');\n",
              "        docLink.innerHTML = docLinkHtml;\n",
              "        element.appendChild(docLink);\n",
              "      }\n",
              "    </script>\n",
              "  </div>\n",
              "\n",
              "\n",
              "    <div id=\"df-881aaa78-de77-42a5-b9ce-bc36197543d0\">\n",
              "      <button class=\"colab-df-quickchart\" onclick=\"quickchart('df-881aaa78-de77-42a5-b9ce-bc36197543d0')\"\n",
              "                title=\"Suggest charts\"\n",
              "                style=\"display:none;\">\n",
              "\n",
              "<svg xmlns=\"http://www.w3.org/2000/svg\" height=\"24px\"viewBox=\"0 0 24 24\"\n",
              "     width=\"24px\">\n",
              "    <g>\n",
              "        <path d=\"M19 3H5c-1.1 0-2 .9-2 2v14c0 1.1.9 2 2 2h14c1.1 0 2-.9 2-2V5c0-1.1-.9-2-2-2zM9 17H7v-7h2v7zm4 0h-2V7h2v10zm4 0h-2v-4h2v4z\"/>\n",
              "    </g>\n",
              "</svg>\n",
              "      </button>\n",
              "\n",
              "<style>\n",
              "  .colab-df-quickchart {\n",
              "      --bg-color: #E8F0FE;\n",
              "      --fill-color: #1967D2;\n",
              "      --hover-bg-color: #E2EBFA;\n",
              "      --hover-fill-color: #174EA6;\n",
              "      --disabled-fill-color: #AAA;\n",
              "      --disabled-bg-color: #DDD;\n",
              "  }\n",
              "\n",
              "  [theme=dark] .colab-df-quickchart {\n",
              "      --bg-color: #3B4455;\n",
              "      --fill-color: #D2E3FC;\n",
              "      --hover-bg-color: #434B5C;\n",
              "      --hover-fill-color: #FFFFFF;\n",
              "      --disabled-bg-color: #3B4455;\n",
              "      --disabled-fill-color: #666;\n",
              "  }\n",
              "\n",
              "  .colab-df-quickchart {\n",
              "    background-color: var(--bg-color);\n",
              "    border: none;\n",
              "    border-radius: 50%;\n",
              "    cursor: pointer;\n",
              "    display: none;\n",
              "    fill: var(--fill-color);\n",
              "    height: 32px;\n",
              "    padding: 0;\n",
              "    width: 32px;\n",
              "  }\n",
              "\n",
              "  .colab-df-quickchart:hover {\n",
              "    background-color: var(--hover-bg-color);\n",
              "    box-shadow: 0 1px 2px rgba(60, 64, 67, 0.3), 0 1px 3px 1px rgba(60, 64, 67, 0.15);\n",
              "    fill: var(--button-hover-fill-color);\n",
              "  }\n",
              "\n",
              "  .colab-df-quickchart-complete:disabled,\n",
              "  .colab-df-quickchart-complete:disabled:hover {\n",
              "    background-color: var(--disabled-bg-color);\n",
              "    fill: var(--disabled-fill-color);\n",
              "    box-shadow: none;\n",
              "  }\n",
              "\n",
              "  .colab-df-spinner {\n",
              "    border: 2px solid var(--fill-color);\n",
              "    border-color: transparent;\n",
              "    border-bottom-color: var(--fill-color);\n",
              "    animation:\n",
              "      spin 1s steps(1) infinite;\n",
              "  }\n",
              "\n",
              "  @keyframes spin {\n",
              "    0% {\n",
              "      border-color: transparent;\n",
              "      border-bottom-color: var(--fill-color);\n",
              "      border-left-color: var(--fill-color);\n",
              "    }\n",
              "    20% {\n",
              "      border-color: transparent;\n",
              "      border-left-color: var(--fill-color);\n",
              "      border-top-color: var(--fill-color);\n",
              "    }\n",
              "    30% {\n",
              "      border-color: transparent;\n",
              "      border-left-color: var(--fill-color);\n",
              "      border-top-color: var(--fill-color);\n",
              "      border-right-color: var(--fill-color);\n",
              "    }\n",
              "    40% {\n",
              "      border-color: transparent;\n",
              "      border-right-color: var(--fill-color);\n",
              "      border-top-color: var(--fill-color);\n",
              "    }\n",
              "    60% {\n",
              "      border-color: transparent;\n",
              "      border-right-color: var(--fill-color);\n",
              "    }\n",
              "    80% {\n",
              "      border-color: transparent;\n",
              "      border-right-color: var(--fill-color);\n",
              "      border-bottom-color: var(--fill-color);\n",
              "    }\n",
              "    90% {\n",
              "      border-color: transparent;\n",
              "      border-bottom-color: var(--fill-color);\n",
              "    }\n",
              "  }\n",
              "</style>\n",
              "\n",
              "      <script>\n",
              "        async function quickchart(key) {\n",
              "          const quickchartButtonEl =\n",
              "            document.querySelector('#' + key + ' button');\n",
              "          quickchartButtonEl.disabled = true;  // To prevent multiple clicks.\n",
              "          quickchartButtonEl.classList.add('colab-df-spinner');\n",
              "          try {\n",
              "            const charts = await google.colab.kernel.invokeFunction(\n",
              "                'suggestCharts', [key], {});\n",
              "          } catch (error) {\n",
              "            console.error('Error during call to suggestCharts:', error);\n",
              "          }\n",
              "          quickchartButtonEl.classList.remove('colab-df-spinner');\n",
              "          quickchartButtonEl.classList.add('colab-df-quickchart-complete');\n",
              "        }\n",
              "        (() => {\n",
              "          let quickchartButtonEl =\n",
              "            document.querySelector('#df-881aaa78-de77-42a5-b9ce-bc36197543d0 button');\n",
              "          quickchartButtonEl.style.display =\n",
              "            google.colab.kernel.accessAllowed ? 'block' : 'none';\n",
              "        })();\n",
              "      </script>\n",
              "    </div>\n",
              "    </div>\n",
              "  </div>\n"
            ],
            "application/vnd.google.colaboratory.intrinsic+json": {
              "type": "dataframe",
              "variable_name": "table",
              "summary": "{\n  \"name\": \"table\",\n  \"rows\": 2,\n  \"fields\": [\n    {\n      \"column\": \"country\",\n      \"properties\": {\n        \"dtype\": \"date\",\n        \"min\": 0,\n        \"max\": 22000,\n        \"num_unique_values\": 2,\n        \"samples\": [\n          0,\n          22000\n        ],\n        \"semantic_type\": \"\",\n        \"description\": \"\"\n      }\n    },\n    {\n      \"column\": \"country_code\",\n      \"properties\": {\n        \"dtype\": \"date\",\n        \"min\": 0,\n        \"max\": 22000,\n        \"num_unique_values\": 2,\n        \"samples\": [\n          0,\n          22000\n        ],\n        \"semantic_type\": \"\",\n        \"description\": \"\"\n      }\n    },\n    {\n      \"column\": \"date_added\",\n      \"properties\": {\n        \"dtype\": \"date\",\n        \"min\": 21878,\n        \"max\": 22000,\n        \"num_unique_values\": 2,\n        \"samples\": [\n          21878,\n          22000\n        ],\n        \"semantic_type\": \"\",\n        \"description\": \"\"\n      }\n    },\n    {\n      \"column\": \"has_expired\",\n      \"properties\": {\n        \"dtype\": \"date\",\n        \"min\": 0,\n        \"max\": 22000,\n        \"num_unique_values\": 2,\n        \"samples\": [\n          0,\n          22000\n        ],\n        \"semantic_type\": \"\",\n        \"description\": \"\"\n      }\n    },\n    {\n      \"column\": \"job_board\",\n      \"properties\": {\n        \"dtype\": \"date\",\n        \"min\": 0,\n        \"max\": 22000,\n        \"num_unique_values\": 2,\n        \"samples\": [\n          0,\n          22000\n        ],\n        \"semantic_type\": \"\",\n        \"description\": \"\"\n      }\n    },\n    {\n      \"column\": \"job_description\",\n      \"properties\": {\n        \"dtype\": \"date\",\n        \"min\": 0,\n        \"max\": 22000,\n        \"num_unique_values\": 2,\n        \"samples\": [\n          0,\n          22000\n        ],\n        \"semantic_type\": \"\",\n        \"description\": \"\"\n      }\n    },\n    {\n      \"column\": \"job_title\",\n      \"properties\": {\n        \"dtype\": \"date\",\n        \"min\": 0,\n        \"max\": 22000,\n        \"num_unique_values\": 2,\n        \"samples\": [\n          0,\n          22000\n        ],\n        \"semantic_type\": \"\",\n        \"description\": \"\"\n      }\n    },\n    {\n      \"column\": \"job_type\",\n      \"properties\": {\n        \"dtype\": \"date\",\n        \"min\": 1628,\n        \"max\": 22000,\n        \"num_unique_values\": 2,\n        \"samples\": [\n          1628,\n          22000\n        ],\n        \"semantic_type\": \"\",\n        \"description\": \"\"\n      }\n    },\n    {\n      \"column\": \"location\",\n      \"properties\": {\n        \"dtype\": \"date\",\n        \"min\": 0,\n        \"max\": 22000,\n        \"num_unique_values\": 2,\n        \"samples\": [\n          0,\n          22000\n        ],\n        \"semantic_type\": \"\",\n        \"description\": \"\"\n      }\n    },\n    {\n      \"column\": \"organization\",\n      \"properties\": {\n        \"dtype\": \"date\",\n        \"min\": 6867,\n        \"max\": 22000,\n        \"num_unique_values\": 2,\n        \"samples\": [\n          6867,\n          22000\n        ],\n        \"semantic_type\": \"\",\n        \"description\": \"\"\n      }\n    },\n    {\n      \"column\": \"page_url\",\n      \"properties\": {\n        \"dtype\": \"date\",\n        \"min\": 0,\n        \"max\": 22000,\n        \"num_unique_values\": 2,\n        \"samples\": [\n          0,\n          22000\n        ],\n        \"semantic_type\": \"\",\n        \"description\": \"\"\n      }\n    },\n    {\n      \"column\": \"salary\",\n      \"properties\": {\n        \"dtype\": \"date\",\n        \"min\": 18554,\n        \"max\": 22000,\n        \"num_unique_values\": 2,\n        \"samples\": [\n          18554,\n          22000\n        ],\n        \"semantic_type\": \"\",\n        \"description\": \"\"\n      }\n    },\n    {\n      \"column\": \"sector\",\n      \"properties\": {\n        \"dtype\": \"date\",\n        \"min\": 5194,\n        \"max\": 22000,\n        \"num_unique_values\": 2,\n        \"samples\": [\n          5194,\n          22000\n        ],\n        \"semantic_type\": \"\",\n        \"description\": \"\"\n      }\n    },\n    {\n      \"column\": \"uniq_id\",\n      \"properties\": {\n        \"dtype\": \"date\",\n        \"min\": 0,\n        \"max\": 22000,\n        \"num_unique_values\": 2,\n        \"samples\": [\n          0,\n          22000\n        ],\n        \"semantic_type\": \"\",\n        \"description\": \"\"\n      }\n    }\n  ]\n}"
            }
          },
          "metadata": {},
          "execution_count": 55
        }
      ]
    },
    {
      "cell_type": "code",
      "source": [
        "msno.bar(df)"
      ],
      "metadata": {
        "id": "D0dHrjUYHl9f",
        "outputId": "da5e5536-3816-4440-964f-d26f18229135",
        "colab": {
          "base_uri": "https://localhost:8080/",
          "height": 740
        }
      },
      "execution_count": 43,
      "outputs": [
        {
          "output_type": "execute_result",
          "data": {
            "text/plain": [
              "<Axes: >"
            ]
          },
          "metadata": {},
          "execution_count": 43
        },
        {
          "output_type": "display_data",
          "data": {
            "text/plain": [
              "<Figure size 2500x1000 with 3 Axes>"
            ],
            "image/png": "[encoded data removed]"
          },
          "metadata": {}
        }
      ]
    },
    {
      "cell_type": "markdown",
      "source": [
        "Проверьте, как изменится размер датасета, если принять решение удалить все строки, где есть пустые значения. Сделайте выводы."
      ],
      "metadata": {
        "id": "7_wex_yPS2t_"
      }
    },
    {
      "cell_type": "code",
      "source": [
        "# PUT YOUR CODE HERE"
      ],
      "metadata": {
        "id": "H2anBRV8NezM"
      },
      "execution_count": null,
      "outputs": []
    },
    {
      "cell_type": "markdown",
      "source": [
        "### Первичная оценка данных в столбцах"
      ],
      "metadata": {
        "id": "msyy7idiKbax"
      }
    },
    {
      "cell_type": "markdown",
      "source": [
        "Изучите данные в столбцах датасета, ответив на следующие вопросы:\n",
        "1. Есть ли столбцы, в которых встречается всего одно значение? Как их можно использовать в анализе?\n",
        "2. Есть ли такие значения, которые встречаются более чем в одном столбце?\n",
        "3. Есть ли столбцы, данные в которых не соответствуют названию столбца?"
      ],
      "metadata": {
        "id": "1Vx9OuX_TcVy"
      }
    },
    {
      "cell_type": "code",
      "source": [
        "# PUT YOUR CODE HERE"
      ],
      "metadata": {
        "id": "AxBO7ljdKgO5"
      },
      "execution_count": null,
      "outputs": []
    },
    {
      "cell_type": "markdown",
      "source": [
        "### Дублирование данных"
      ],
      "metadata": {
        "id": "AnlzCkfNL9Zp"
      }
    },
    {
      "cell_type": "markdown",
      "source": [
        "Для поиска дублирующихся строк выполните следующие действия:\n",
        "1. В таблице есть столбец `uniq_id`, значения которого, как сказано в описании данных, являются уникальными идентификаторами записей. Проверьте, действительно ли в этом столбце все значения различны.\n",
        "2. Проверьте, есть ли в таблице другие столбцы, значения которых в каждой строке различны.\n",
        "3. Если игнорировать столбцы, где все значения различны, найдутся ли такие строки, для которых значения по всем остальным столбцам будут совпадать?\n",
        "\n",
        "Оцените результаты поиска дубликатов."
      ],
      "metadata": {
        "id": "o5ee6oWjUPrt"
      }
    },
    {
      "cell_type": "code",
      "source": [
        "# PUT YOUR CODE HERE"
      ],
      "metadata": {
        "id": "xdOZaPBXNO-4"
      },
      "execution_count": null,
      "outputs": []
    },
    {
      "cell_type": "markdown",
      "source": [
        "# Практические задания"
      ],
      "metadata": {
        "id": "KfnT9b7KkbGV"
      }
    },
    {
      "cell_type": "markdown",
      "source": [
        "В этом разделе необходимо обработать значения в трех столбцах датасета: `location`, `salary` и `job_type`. Цель обработки – стандартизировать данные в каждом из столбцов так, чтобы их можно было анализировать."
      ],
      "metadata": {
        "id": "mLi_dNBw7vYH"
      }
    },
    {
      "cell_type": "markdown",
      "source": [
        "### Задание 1\n",
        "\n",
        "В задании 1 необходимо провести обработку столбца `location`."
      ],
      "metadata": {
        "id": "bysSIV-E6Qo2"
      }
    },
    {
      "cell_type": "markdown",
      "source": [
        "#### Задание 1.1\n",
        "\n",
        "В столбце `location` представлена информация о местоположении организации, в которой открыта вакансия. Каждое значение столбца `location` содержит информацию о городе, коде штата и почтовом индексе.\n",
        "\n",
        "Однако не в каждой строке есть все три характеристики местоположения, а также могут встречаться разные комбинации из них, записанные в виде строки в произвольном порядке и с разными разделителями.\n",
        "\n",
        "Например, может быть указан только код штата, только название города или только индекс. Могут быть указаны любые две характеристики из трех.\n",
        "\n",
        "**Формулировка задания:**\n",
        "1. Определите, какие форматы встречаются.\n",
        "2. Напишите одно или несколько регулярных выражений для поиска выявленных форматов.\n",
        "3. Визуализируйте количество найденных форматов на столбчатой или круговой диаграмме. Также покажите на ней количество строк, в которых формат определить не удалось. Какие форматы встречаются чаще всего?\n",
        "\n",
        "Ознакомиться с теоретическим материалом по работе с регулярными выражениями можно [по ссылке](https://colab.research.google.com/drive/1eFHdmt9OROLEDJRNc2wNmz0gpE1O3sKU?usp=sharing)."
      ],
      "metadata": {
        "id": "XFGxe_V0-RJH"
      }
    },
    {
      "cell_type": "code",
      "source": [
        "# PUT YOUR CODE HERE"
      ],
      "metadata": {
        "id": "cn1chn2Y7MFK"
      },
      "execution_count": null,
      "outputs": []
    },
    {
      "cell_type": "markdown",
      "source": [
        "#### Задание 1.2\n",
        "\n",
        "В большей части строк удалось извлечь данные из ячейки столбца `location`, но остались и такие, где это не получилось. Вынесите в отдельный датасет записи, в которых не удалось определить формат записи информации о местоположении.\n",
        "\n",
        "Над оставшимися строками проведите следующие преобразования:\n",
        "1. Данные о местоположении разделите на 3 столбца: город, код штата, почтовый индекс.\n",
        "2. Так как значения в столбце `почтовый индекс` являются пятизначными числами, преобразуйте их в целочисленный формат."
      ],
      "metadata": {
        "id": "F3U7JkFM_OvP"
      }
    },
    {
      "cell_type": "code",
      "source": [
        "# PUT YOUR CODE HERE"
      ],
      "metadata": {
        "id": "Jhfk2VbV86Wi"
      },
      "execution_count": null,
      "outputs": []
    },
    {
      "cell_type": "markdown",
      "source": [
        "Рассмотрите отложенную часть выборки (ту, где не удалось данные из столбца `location` разделить на три поля) и сделайте выводы о возможности извлечь из данных город, код штата и почтовый индекс. Извлеките все, что возможно. Что невозможно – оставьте пустым."
      ],
      "metadata": {
        "id": "aXtr78WJ_cyH"
      }
    },
    {
      "cell_type": "code",
      "source": [
        "# PUT YOUR CODE HERE"
      ],
      "metadata": {
        "id": "q4S6RjAR_rk-"
      },
      "execution_count": null,
      "outputs": []
    },
    {
      "cell_type": "markdown",
      "source": [
        "### Задание 2\n",
        "\n",
        "В задании 2 необходимо провести обработку столбца `salary`."
      ],
      "metadata": {
        "id": "jnaCe7umCrCM"
      }
    },
    {
      "cell_type": "markdown",
      "source": [
        "#### Задание 2.1\n",
        "\n",
        "В столбце `salary`, как и в `location`, данные не стандатизированы. В нем в основном можно встретить записи в следующих форматах:\n",
        "\n",
        "* 10.00 - 20.00 &dollar; &sol;hour\n",
        "* 10,000.00 - 20,000.00 &dollar; &sol;year\n",
        "* &dollar;10.00 &sol;hour\n",
        "* &dollar;10,000.00+ &sol;year\n",
        "* Up to &dollar;20,000.00\n",
        "\n",
        "Основные проблемы, которые стоит учесть при обработке форматов:\n",
        "- В каждом из форматов может быть или не быть знака доллара.\n",
        "- Может отсутствовать информация о периоде, за который указывается зарплата (`/hour` или `/year` в примерах).\n",
        "- Зарплата может быть указана за месяц (`/month`) и за неделю (`/week`).\n",
        "- В начале, конце и середине некоторых строк есть лишние пробелы, которые не стоит учитывать.\n",
        "\n",
        "**Задание:**\n",
        "1. Определите весь перечень встречающихся форматов и напишите одно или несколько регулярных выражений для их поиска.\n",
        "2. Покажите на столбчатой диаграмме количество записей, содержащих каждый из форматов. Сделайте выводы."
      ],
      "metadata": {
        "id": "pODtqlog_v7l"
      }
    },
    {
      "cell_type": "code",
      "source": [
        "# PUT YOUR CODE HERE"
      ],
      "metadata": {
        "id": "62JbulyKA7kS"
      },
      "execution_count": null,
      "outputs": []
    },
    {
      "cell_type": "markdown",
      "source": [
        "#### Задание 2.2\n",
        "\n",
        "1. Разделите столбец `salary` зарплаты три: `минимальная граница зарплаты`, `максимальная граница зарплаты`, `период`. Если значение суммы указано только одно, считайте, что это минимальная зарплата. Значение суммы в обоих столбцах преобразуйте в формат `float`.\n",
        "2. Покажите на столбчатой диаграмме с группировкой среднюю и медианную минимальную зарплату в каждом периоде. Сделайте выводы."
      ],
      "metadata": {
        "id": "HcDjkOO2MZB2"
      }
    },
    {
      "cell_type": "code",
      "source": [
        "# PUT YOUR CODE HERE"
      ],
      "metadata": {
        "id": "Sv7hqH6vBKXt"
      },
      "execution_count": null,
      "outputs": []
    },
    {
      "cell_type": "markdown",
      "source": [
        "#### Задание 2.3\n",
        "\n",
        "Как было отмечено в задании 2.1, период, за который указывается зарплата, может отсутствовать. Восполните этот пробел в данных следующим образом:\n",
        "\n",
        "1. Определите диапазон изменения (разброс) значений денежной суммы за каждый из встречающихся в данных периодов. Постройте гистограмму для каждого периода.\n",
        "2. Определите, к среднему значению за какой период ближе всего сумма, у которой период не указан. Укажите для найденный период. В спорных случаях, где сумма одинаково близка к нескольким диапазонам, не выбирайте ничего."
      ],
      "metadata": {
        "id": "3qwRlgzGC-To"
      }
    },
    {
      "cell_type": "code",
      "source": [
        "# PUT YOUR CODE HERE"
      ],
      "metadata": {
        "id": "FnhxSKfkAgbS"
      },
      "execution_count": null,
      "outputs": []
    },
    {
      "cell_type": "markdown",
      "source": [
        "### Задание 3\n",
        "\n",
        "В задании 3 необходимо провести обработку столбца `job_type`. Выясните, какие форматы значений есть в столбце `job_type`. Сделайте выводы. При необходимости – стройте графики."
      ],
      "metadata": {
        "id": "cQZa1dUvXPZc"
      }
    },
    {
      "cell_type": "code",
      "source": [
        "# PUT YOUR CODE HERE"
      ],
      "metadata": {
        "id": "PbFXp8J6BN--"
      },
      "execution_count": null,
      "outputs": []
    },
    {
      "cell_type": "markdown",
      "source": [
        "Вы заметили, что многие значения фактически одинаковые, но немного по-разному отформатированы? Приведем их к единому формату."
      ],
      "metadata": {
        "id": "CpUXRxhoXsdy"
      }
    },
    {
      "cell_type": "code",
      "source": [
        "# PUT YOUR CODE HERE"
      ],
      "metadata": {
        "id": "ejRYjjC7WIES"
      },
      "execution_count": null,
      "outputs": []
    },
    {
      "cell_type": "markdown",
      "source": [
        "Столбец `job_type` состоит из двух частей: \"полнота\" занятости (`Full Time`, `Part Time`, `Per Diem`) и \"тип\" занятости (`Employee`, `Intern`). Кроме того, встречаются и неполные записи.\n",
        "\n",
        "Задание:\n",
        "1. Написать одно или несколько регулярных выражений для разделения столбца `job_type` на два: `полнота занятости`, `тип занятости`.\n",
        "2. Если данные о полноте отсутствуют, внесите значение `Full Time`.\n",
        "Если отсутствуют данные о типе – внесите `Employee`.\n",
        "3. Постройте столбчатую диаграмму со стековой группировкой для полноты и типа занятости. Сделайте выводы."
      ],
      "metadata": {
        "id": "3dTDSMR8dTI8"
      }
    },
    {
      "cell_type": "code",
      "source": [
        "# PUT YOUR CODE HERE"
      ],
      "metadata": {
        "id": "gW7GoMgkbtLx"
      },
      "execution_count": null,
      "outputs": []
    },
    {
      "cell_type": "markdown",
      "source": [
        "# Порядок защиты работы"
      ],
      "metadata": {
        "id": "kNKi8fn1X0Qa"
      }
    },
    {
      "cell_type": "markdown",
      "source": [
        "**Для защиты работы необходимо:**\n",
        "1. Предоставить результаты выполнения всех заданий в виде ссылки на Google Colab.\n",
        "2. Выполнить дополнительное задание в процессе сдачи работы. Дополнительное задание представляет собой решение задачи на обработку данных лабораторной работы, меньшее по объему, но сопоставимое по сложности тем заданиям, которые требовалось выполнить в рамках работы.\n",
        "\n",
        "**Примеры дополнительных заданий:**\n",
        "1. В столбце `sector` часто представлены данные из столбца `organization` и наоборот. Устраните эту проблему.\n",
        "2. В столбце `job_title` часто можно частично или полностью встретить указание местоположения организации. Сравните, совпадают ли в таких случаях данные с тем, что указано в столбцах `город`, `код штата`, `почтовый индекс`. Если в этих трех столбцах данные отсутствуют, заполните их данными из столбца `job_title`.\n",
        "3. Практически во всех столбцах датасета вместо соответствующих названию данных иногда встречается текст из `job_description`. Найдите такие столбцы и записи с описанием вакансии в них. Покажите на столбчатой диаграмме, в каких столбцах и в каком количестве находится информация из столбца `job_description`."
      ],
      "metadata": {
        "id": "vNArFxJcX8uS"
      }
    },
    {
      "cell_type": "markdown",
      "source": [
        "# Дополнительные материалы"
      ],
      "metadata": {
        "id": "o5oPWAt-Z_s_"
      }
    },
    {
      "cell_type": "markdown",
      "source": [
        "1. DAMA-DMBOK: Свод знаний по управлению данными: Второе издание / DAMA International; [пер. с англ.]. – Москва: ООО \"Олимп-Бизнес\", 2021. – 828 с.\n",
        "2. Макгрегор, С. Обработка данных на Python: Data Wrangling и Data Quality: [Текст] / С. Макгрегор. – Москва: БХВ, 2024. – 432 с."
      ],
      "metadata": {
        "id": "-MwwS_lTaSGM"
      }
    }
  ]
}